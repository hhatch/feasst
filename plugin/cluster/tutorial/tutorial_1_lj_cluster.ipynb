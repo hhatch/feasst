{
 "cells": [
  {
   "cell_type": "markdown",
   "metadata": {},
   "source": [
    "# Monte Carlo with rigid cluster moves\n",
    "\n",
    "\n",
    "In this example, a low density and low temperature simulation of Lennard-Jones particles is conducted with and without rigid cluster moves and with and without single particle translations.\n",
    "A droplet is expected to form at these conditions.\n",
    "Without cluster moves, this droplet is unable to translate and rotate freely once it is formed.\n",
    "Single particle translations are still important.\n",
    "In order to obey detailed balance with rigid cluster moves, clusters cannot be created or destroyed.\n",
    "Thus, single particle translations are still required to form a droplet.\n",
    "Without single particle translations, particle randomly dispersed will not be allowed to coalesce.\n",
    "\n",
    "The three possible combinations are listed as follows:\n",
    "- sim 1 - single particle translations only\n",
    "- sim 2 - rigid cluster moves only\n",
    "- sim 3 - both"
   ]
  },
  {
   "cell_type": "code",
   "execution_count": 2,
   "metadata": {},
   "outputs": [],
   "source": [
    "import unittest\n",
    "import feasst as fst\n",
    "\n",
    "for sim in [1, 2, 3]: # see combinations described above\n",
    "    monte_carlo = fst.MonteCarlo()\n",
    "    monte_carlo.add(fst.Configuration(fst.MakeDomain(fst.args({\"cubic_box_length\": \"8\"})),\n",
    "         fst.args({\"particle_type\": fst.install_dir() + \"/forcefield/data.lj\"})))\n",
    "    if sim == 1:\n",
    "        monte_carlo.add(fst.MakePotential(fst.MakeLennardJones()))\n",
    "    else:\n",
    "        monte_carlo.add(fst.MakePotential(fst.MakeLennardJones(),\n",
    "                        fst.MakeVisitModel(fst.MakeVisitModelInner(fst.MakeEnergyMapAll()))))\n",
    "    monte_carlo.set(fst.MakeThermoParams(fst.args({\"beta\": \"4\", \"chemical_potential\": \"1.\"})))\n",
    "    monte_carlo.set(fst.MakeMetropolis())\n",
    "    if sim == 1 or sim == 3:\n",
    "        monte_carlo.add(fst.MakeTrialTranslate(fst.args(\n",
    "            {\"tunable_param\": \"2.\", \"tunable_target_acceptance\": \"0.2\"})))\n",
    "    fst.SeekNumParticles(25).with_trial_add().run(monte_carlo)\n",
    "    \n",
    "    # record the size of the cluster of the first particle for comparison\n",
    "    if sim == 2 or sim == 3:\n",
    "        monte_carlo.add(fst.MakeNeighborCriteria(fst.args({'energy_maximum': '-0.5'})))\n",
    "        select_cluster = fst.SelectCluster(fst.args({\"neighbor_index\": \"0\"}))\n",
    "        select_cluster.select_cluster(0, monte_carlo.system())\n",
    "        cluster_size = select_cluster.mobile().num_particles()\n",
    "        monte_carlo.add(fst.MakeTrialRigidCluster(fst.args({\"neighbor_index\": \"0\"})))\n",
    "    steps_per = int(1e3)\n",
    "    monte_carlo.add(fst.MakeTune(fst.args({\"steps_per\" : str(steps_per)})))\n",
    "    monte_carlo.add(fst.MakeLog(fst.args({\"steps_per\" : str(steps_per)})))\n",
    "    monte_carlo.add(fst.MakeCPUTime(fst.args({\"steps_per\" : str(steps_per),\n",
    "                                                    'file_name': 'cpu'+str(sim)+'.txt'})))\n",
    "    moviename='movie'+str(sim)+'.xyz'\n",
    "    monte_carlo.add(fst.MakeMovie(fst.args(\n",
    "        {\"steps_per\" : str(steps_per), \"file_name\" : moviename, \"clear_file\": \"True\"})))\n",
    "    monte_carlo.add(fst.MakeCheckEnergy(fst.args(\n",
    "        {\"steps_per\" : str(steps_per), \"tolerance\" : \"1e-8\"})))\n",
    "    monte_carlo.attempt(int(1e5))\n",
    "    \n",
    "    # With rigid cluster moves only, clusters cannot coalesce or break up.\n",
    "    # So the clusters in the original configuration remain.\n",
    "    if sim == 2 or sim == 3:\n",
    "        select_cluster.select_cluster(0, monte_carlo.system())\n",
    "        if sim == 2:\n",
    "            assert(select_cluster.mobile().num_particles() == cluster_size)\n",
    "        # otherwise, we expect the formation of a droplet\n",
    "        if sim == 3:\n",
    "            cluster_size_av = monte_carlo.trial(1).stage(0).trial_select().printable(\"cluster_size\").average()\n",
    "            assert(cluster_size_av > 20)"
   ]
  },
  {
   "cell_type": "markdown",
   "metadata": {},
   "source": [
    "Take a look at the cpu files. Sim 1 is faster than sim 2 because cluster moves are more expensive. Even when clusters are small, energy map book keeping and cluster calculations can be slow compared to a simple LJ potential.\n",
    "\n",
    "Sim 3 is even slower than sim 2 because sim 3 forms larger clusters. Each step moves many particles and is more expensive.\n",
    "\n",
    "Note that, even if sim 3 takes the longest time to complete a given number of steps, it can still be considered the most efficient sim due to improved sampling. Essentially, sims 1 and 2 are non ergodic and get trapped in a particular region of phase space, while sim 3 can sample all of phase space."
   ]
  }
 ],
 "metadata": {
  "kernelspec": {
   "display_name": "Python 3",
   "language": "python",
   "name": "python3"
  },
  "language_info": {
   "codemirror_mode": {
    "name": "ipython",
    "version": 3
   },
   "file_extension": ".py",
   "mimetype": "text/x-python",
   "name": "python",
   "nbconvert_exporter": "python",
   "pygments_lexer": "ipython3",
   "version": "3.6.10"
  }
 },
 "nbformat": 4,
 "nbformat_minor": 2
}
