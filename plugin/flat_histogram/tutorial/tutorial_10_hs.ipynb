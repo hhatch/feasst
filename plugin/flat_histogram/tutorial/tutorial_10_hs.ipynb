{
 "cells": [
  {
   "cell_type": "markdown",
   "metadata": {},
   "source": [
    "# Analysis of a hard sphere simulation"
   ]
  },
  {
   "cell_type": "code",
   "execution_count": 2,
   "metadata": {},
   "outputs": [
    {
     "data": {
      "text/html": [
       "<div>\n",
       "<style scoped>\n",
       "    .dataframe tbody tr th:only-of-type {\n",
       "        vertical-align: middle;\n",
       "    }\n",
       "\n",
       "    .dataframe tbody tr th {\n",
       "        vertical-align: top;\n",
       "    }\n",
       "\n",
       "    .dataframe thead th {\n",
       "        text-align: right;\n",
       "    }\n",
       "</style>\n",
       "<table border=\"1\" class=\"dataframe\">\n",
       "  <thead>\n",
       "    <tr style=\"text-align: right;\">\n",
       "      <th></th>\n",
       "      <th>dens</th>\n",
       "      <th>P_MC</th>\n",
       "      <th>P_FST</th>\n",
       "      <th>+/-</th>\n",
       "    </tr>\n",
       "  </thead>\n",
       "  <tbody>\n",
       "    <tr>\n",
       "      <th>0</th>\n",
       "      <td>0.025</td>\n",
       "      <td>0.026352</td>\n",
       "      <td>0.026362</td>\n",
       "      <td>0.000000</td>\n",
       "    </tr>\n",
       "    <tr>\n",
       "      <th>1</th>\n",
       "      <td>0.050</td>\n",
       "      <td>0.055593</td>\n",
       "      <td>0.055614</td>\n",
       "      <td>0.000000</td>\n",
       "    </tr>\n",
       "    <tr>\n",
       "      <th>2</th>\n",
       "      <td>0.075</td>\n",
       "      <td>0.088023</td>\n",
       "      <td>0.088043</td>\n",
       "      <td>0.000002</td>\n",
       "    </tr>\n",
       "    <tr>\n",
       "      <th>3</th>\n",
       "      <td>0.100</td>\n",
       "      <td>0.123969</td>\n",
       "      <td>0.123991</td>\n",
       "      <td>0.000001</td>\n",
       "    </tr>\n",
       "    <tr>\n",
       "      <th>4</th>\n",
       "      <td>0.125</td>\n",
       "      <td>0.163795</td>\n",
       "      <td>0.163832</td>\n",
       "      <td>0.000002</td>\n",
       "    </tr>\n",
       "    <tr>\n",
       "      <th>5</th>\n",
       "      <td>0.150</td>\n",
       "      <td>0.207877</td>\n",
       "      <td>0.207900</td>\n",
       "      <td>0.000003</td>\n",
       "    </tr>\n",
       "  </tbody>\n",
       "</table>\n",
       "</div>"
      ],
      "text/plain": [
       "    dens      P_MC     P_FST       +/-\n",
       "0  0.025  0.026352  0.026362  0.000000\n",
       "1  0.050  0.055593  0.055614  0.000000\n",
       "2  0.075  0.088023  0.088043  0.000002\n",
       "3  0.100  0.123969  0.123991  0.000001\n",
       "4  0.125  0.163795  0.163832  0.000002\n",
       "5  0.150  0.207877  0.207900  0.000003"
      ]
     },
     "execution_count": 2,
     "metadata": {},
     "output_type": "execute_result"
    }
   ],
   "source": [
    "# compare to EOS in SRSW: https://www.nist.gov/mml/csd/chemical-informatics-research-group/hard-sphere-thermodynamic-and-transport-properties\n",
    "import numpy as np\n",
    "import pandas as pd\n",
    "import feasst as fst\n",
    "import pyfeasst\n",
    "import subprocess\n",
    "\n",
    "proc = subprocess.Popen(['python', 'tutorial_10_hs.py', '--num_procs', '1', '--max_particles', '100'], stdout=subprocess.PIPE, stderr=subprocess.STDOUT)\n",
    "proc.wait()\n",
    "df = pd.read_csv('ln_prob.txt', header=None)\n",
    "ln_prob = fst.LnProbability(fst.DoubleVector(df[0]))\n",
    "gce = fst.GrandCanonicalEnsemble(\n",
    "    fst.Histogram(fst.args({\"width\": \"1\", \"max\": str(len(df)-1)})),\n",
    "    ln_prob,\n",
    "    -2.352321) # original conjugate, beta_mu = lnz\n",
    "\n",
    "volume = 8**3\n",
    "df = pd.read_csv(fst.install_dir() + '/plugin/flat_histogram/test/data/stat_hs.csv')\n",
    "df = df[:6] # truncate high density because 100 particles in this example isn't enough. Instead, try 512 or more.\n",
    "\n",
    "def objective_fn(target_density, dbetamu):\n",
    "    gce.reweight(dbetamu)\n",
    "    return (target_density - gce.average_macrostate()/volume)**2\n",
    "\n",
    "from scipy.optimize import minimize\n",
    "pressure=list()\n",
    "for target_density in df['dens']:\n",
    "    res = minimize(lambda beta_mu_rw: objective_fn(target_density, beta_mu_rw[0]), 1., tol=1e-8)\n",
    "    gce.reweight(res.x[0])\n",
    "    pressure.append(gce.betaPV()/volume)\n",
    "df['P_FST'] = pressure\n",
    "df[['dens', 'P_MC', 'P_FST', '+/-']]\n",
    "\n",
    "# plt.plot(df['dens'], df['P_FST'], label='fst')\n",
    "# plt.plot(df['dens'], df['P_MC'], linestyle='dashed', label='srsw')\n",
    "# plt.xlabel('density')\n",
    "# plt.ylabel('pressure')\n",
    "# plt.legend()"
   ]
  },
  {
   "cell_type": "code",
   "execution_count": 5,
   "metadata": {},
   "outputs": [
    {
     "name": "stdout",
     "output_type": "stream",
     "text": [
      "betamu -1.838854233754734\n",
      "target density 0.1\n",
      "density 0.10000938819065329\n"
     ]
    }
   ],
   "source": [
    "# Use chemical potential from Carnahan-Starling to compare expected average density\n",
    "# http://www.sklogwiki.org/SklogWiki/index.php/Carnahan-Starling_equation_of_state\n",
    "import math\n",
    "import subprocess\n",
    "import pandas as pd\n",
    "import feasst as fst\n",
    "rho = 0.1\n",
    "cubic_box_length=8\n",
    "eta = fst.PI/6*rho\n",
    "betamu_ex = (8*eta-9*eta**2+3*eta**3)/(1-eta)**3\n",
    "betamu = betamu_ex + math.log(rho)\n",
    "print('betamu', betamu)\n",
    "proc = subprocess.Popen(['python', 'tutorial_10_hs.py', '--num_procs', '4', '--max_particles', '115',\n",
    "                         '--cubic_box_length', str(cubic_box_length), '--min_sweeps', '20',\n",
    "                         '--mu', str(betamu)], stdout=subprocess.PIPE, stderr=subprocess.STDOUT)\n",
    "proc.wait()\n",
    "df = pd.read_csv('ln_prob.txt', header=None)\n",
    "ln_prob = fst.LnProbability(fst.DoubleVector(df[0]))\n",
    "gce = fst.GrandCanonicalEnsemble(\n",
    "    fst.Histogram(fst.args({\"width\": \"1\", \"max\": str(len(df)-1)})),\n",
    "    ln_prob,\n",
    "    betamu)\n",
    "print('target density', rho)\n",
    "print('density', gce.average_macrostate()/cubic_box_length**3)"
   ]
  },
  {
   "cell_type": "markdown",
   "metadata": {},
   "source": [
    "Did this tutorial work as expected? Did you find any inconsistencies or have any comments? Please [contact](../../../CONTACT.rst) us. Any feedback is appreciated!"
   ]
  }
 ],
 "metadata": {
  "kernelspec": {
   "display_name": "Python 3",
   "language": "python",
   "name": "python3"
  },
  "language_info": {
   "codemirror_mode": {
    "name": "ipython",
    "version": 3
   },
   "file_extension": ".py",
   "mimetype": "text/x-python",
   "name": "python",
   "nbconvert_exporter": "python",
   "pygments_lexer": "ipython3",
   "version": "3.8.10"
  }
 },
 "nbformat": 4,
 "nbformat_minor": 2
}
