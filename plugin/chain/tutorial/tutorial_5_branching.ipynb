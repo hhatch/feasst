{
 "cells": [
  {
   "cell_type": "markdown",
   "id": "agricultural-poultry",
   "metadata": {},
   "source": [
    "# Testing angles and branches\n",
    "\n",
    "Following https://doi.org/10.1021/acs.jctc.7b00173 , compute the angle distributions.\n",
    "\n",
    "First, consider propane and 2-methylpropane. Then consider a very flexible molecule as follows:\n",
    "\n",
    "      1\n",
    "      |\n",
    "      0\n",
    "     /  \\\n",
    "    2    3\n",
    "\n",
    "Where the equilibrium angles are all 60 degrees but the harmonic angle potential is not strong. The bonds are rigid with a length of 2 and the diameters of the beads are 1."
   ]
  },
  {
   "cell_type": "code",
   "execution_count": 1,
   "id": "ba226ff7",
   "metadata": {},
   "outputs": [],
   "source": [
    "import sys\n",
    "import subprocess\n",
    "import argparse\n",
    "import random\n",
    "import unittest\n",
    "import numpy as np\n",
    "import pandas as pd\n",
    "import matplotlib.pyplot as plt\n",
    "from pyfeasst import physical_constants\n",
    "\n",
    "params = {\n",
    "    \"cubic_side_length\": 90,\n",
    "    \"temperature_K\": 300,\n",
    "    \"trials_per\": 1e5,\n",
    "    \"production\": 1e5,\n",
    "    \"k\": 1,\n",
    "    'angle_bin_width': 0.01,\n",
    "    'angle_bin_center': 100/180*np.pi,\n",
    "    'molecule': 'propane',\n",
    "    #'molecule': '2-methylpropane',\n",
    "    #'molecule': 'floppy_branch',\n",
    "}\n",
    "\n",
    "def update_params(params):\n",
    "    params['seed'] = random.randrange(int(1e9))\n",
    "    params['beta'] = 1./(params['temperature_K']*physical_constants.MolarGasConstant().value()/1e3) # mol/kJ\n",
    "    if params['molecule'] == 'propane':\n",
    "        params['system'] = \"\"\"Configuration cubic_side_length 30 add_particles_of_type0 1 particle_type0 /feasst/particle/propane.fstprt\n",
    "Potential Model LennardJones\"\"\"\n",
    "        params['grow'] = 'particle_type 0 angle true mobile_site 2 anchor_site 1 anchor_site2 0'\n",
    "    else:\n",
    "        params['grow'] = 'particle_type 0 branch true mobile_site 2 mobile_site2 3 anchor_site 0 anchor_site2 1'\n",
    "    if params['molecule'] == '2-methylpropane':\n",
    "        params['system'] = \"\"\"Configuration cubic_side_length 30 add_particles_of_type0 1 particle_type0 /feasst/particle/2-methylpropane.fstprt\n",
    "Potential Model LennardJones\"\"\"\n",
    "    elif params['molecule'] == 'floppy_branch':\n",
    "        params['system'] = \"\"\"Configuration cubic_side_length 30 add_particles_of_type0 1 particle_type0 {prefix}.fstprt\n",
    "Potential Model HardSphere\n",
    "Potential Model HardSphere VisitModel VisitModelIntraMap exclude_bonds true\"\"\".format(**params)\n",
    "        with open(params['prefix']+'.fstprt', 'w') as file1:\n",
    "            file1.write(\"\"\"\n",
    "4 sites\n",
    "3 bonds\n",
    "3 angles\n",
    "\n",
    "1 site types\n",
    "1 bond types\n",
    "1 angle types\n",
    "\n",
    "Site Properties\n",
    "\n",
    "0 epsilon 1 sigma 1 cutoff 1\n",
    "\n",
    "Sites\n",
    "\n",
    "0 0 0 0 0\n",
    "1 0 1 0 0\n",
    "2 0 0 1 0\n",
    "3 0 0 0 1\n",
    "\n",
    "Bonds\n",
    "\n",
    "0 0 0 1\n",
    "0 0 0 2\n",
    "0 0 0 3\n",
    "\n",
    "Bond Properties\n",
    "\n",
    "0 RigidBond length 1 delta 0.0001\n",
    "\n",
    "Angles\n",
    "\n",
    "0 0 1 0 2\n",
    "0 0 1 0 3\n",
    "0 0 2 0 3\n",
    "\n",
    "Angle Properties\n",
    "\n",
    "0 AngleHarmonic equilibrium_degrees 60 k_energy_per_radian_sq {k}\n",
    "\"\"\".format(**params))\n",
    "    else:\n",
    "        if params['molecule'] != 'propane':\n",
    "            assert False, 'unrecognized molecule'\n",
    "        \n",
    "def run_sim(params):\n",
    "    update_params(params)\n",
    "    with open(params['prefix']+'_grow.txt', 'w') as file1:\n",
    "        file1.write(\"\"\"TrialGrowFile\\n\\n{grow}\"\"\".format(**params))\n",
    "\n",
    "    # write fst script to run a single simulation\n",
    "    with open('script.txt', \"w\") as myfile: myfile.write(\"\"\"\n",
    "MonteCarlo\n",
    "RandomMT19937 seed {seed}\n",
    "{system}\n",
    "ThermoParams beta {beta} chemical_potential 1\n",
    "Metropolis\n",
    "TrialGrowFile grow_file {prefix}_grow.txt\n",
    "Movie trials_per_write {trials_per} output_file {prefix}.xyz\n",
    "Log trials_per_write {trials_per} output_file {prefix}.txt include_bonds true\n",
    "Energy trials_per_write {trials_per} output_file {prefix}_en.txt\n",
    "AnalyzeBonds trials_per_write {trials_per} output_file {prefix}_bonds.txt angle_bin_width {angle_bin_width} angle_bin_center {angle_bin_center}\n",
    "CheckEnergy trials_per_update {trials_per} tolerance 1e-8\n",
    "Run num_trials {production}\n",
    "\"\"\".format(**params))\n",
    "\n",
    "    import subprocess\n",
    "    syscode = subprocess.call(\"../../../build/bin/fst < script.txt > script.log\", shell=True, executable='/bin/bash')\n",
    "    with open('script.log', 'r') as file: print(file.read(), '\\n', 'exit:', syscode)"
   ]
  },
  {
   "cell_type": "code",
   "execution_count": 2,
   "id": "a10eb899",
   "metadata": {},
   "outputs": [
    {
     "name": "stdout",
     "output_type": "stream",
     "text": [
      "# FEASST version: v0.24.5-3-g7548e16503-hwh/srswmonoclinic4\n",
      "MonteCarlo\n",
      "RandomMT19937 seed 331771759  \n",
      "# initializing random number generator with seed: 331771759\n",
      "Configuration add_particles_of_type0 1 cubic_side_length 30 particle_type0 /home/hwh/feasst/particle/propane.fstprt  \n",
      "Potential Model LennardJones  \n",
      "ThermoParams beta 0.4009078501424201 chemical_potential 1  \n",
      "Metropolis  \n",
      "TrialGrowFile grow_file propane_grow.txt  \n",
      "Movie output_file propane.xyz trials_per_write 10000000.0  \n",
      "Log include_bonds true output_file propane.txt trials_per_write 10000000.0  \n",
      "Energy output_file propane_en.txt trials_per_write 10000000.0  \n",
      "AnalyzeBonds angle_bin_center 1.7453292519943295 angle_bin_width 0.01 output_file propane_bonds.txt trials_per_write 10000000.0  \n",
      "CheckEnergy tolerance 1e-8 trials_per_update 10000000.0  \n",
      "Run num_trials 10000000.0  \n",
      " \n",
      " exit: 0\n"
     ]
    }
   ],
   "source": [
    "params['prefix'] = params['molecule'] = 'propane'\n",
    "params['production'] = params['trials_per'] = 1e7\n",
    "run_sim(params)"
   ]
  },
  {
   "cell_type": "code",
   "execution_count": 3,
   "id": "f2e0ca16",
   "metadata": {},
   "outputs": [
    {
     "name": "stderr",
     "output_type": "stream",
     "text": [
      "test (__main__.TestPropaneAngle) ... ok\n",
      "\n",
      "----------------------------------------------------------------------\n",
      "Ran 1 test in 0.013s\n",
      "\n",
      "OK\n"
     ]
    },
    {
     "data": {
      "text/plain": [
       "<unittest.main.TestProgram at 0x7f436a8e8190>"
      ]
     },
     "execution_count": 3,
     "metadata": {},
     "output_type": "execute_result"
    },
    {
     "data": {
      "image/png": "[encoded data removed]",
      "text/plain": [
       "<Figure size 640x480 with 1 Axes>"
      ]
     },
     "metadata": {},
     "output_type": "display_data"
    }
   ],
   "source": [
    "class TestPropaneAngle(unittest.TestCase):\n",
    "    def test(self):\n",
    "        chen = pd.read_csv('../test/data/propane_bonds.txt', comment='#', header=None)\n",
    "        df = pd.read_csv('propane_bonds.txt', skiprows=10, header=None)\n",
    "        for d in [df, chen]:\n",
    "            d[1] /= d[1].max()\n",
    "        self.assertAlmostEqual(chen[1].mean(), df[1].mean(), delta=0.2)\n",
    "        self.assertAlmostEqual(chen[1].std(), df[1].std(), delta=0.1)\n",
    "        plt.step(chen[0], chen[1], color='black')\n",
    "        plt.step(df[0]/np.pi*180, df[1])\n",
    "        plt.axvline(114, color='black', linestyle='dotted')\n",
    "        \n",
    "unittest.main(argv=[''], verbosity=2, exit=False)"
   ]
  },
  {
   "cell_type": "code",
   "execution_count": 4,
   "id": "photographic-small",
   "metadata": {
    "scrolled": true
   },
   "outputs": [
    {
     "name": "stdout",
     "output_type": "stream",
     "text": [
      "# FEASST version: v0.24.5-3-g7548e16503-hwh/srswmonoclinic4\n",
      "MonteCarlo\n",
      "RandomMT19937 seed 451425423  \n",
      "# initializing random number generator with seed: 451425423\n",
      "Configuration add_particles_of_type0 1 cubic_side_length 30 particle_type0 /home/hwh/feasst/particle/2-methylpropane.fstprt  \n",
      "Potential Model LennardJones  \n",
      "ThermoParams beta 0.4009078501424201 chemical_potential 1  \n",
      "Metropolis  \n",
      "TrialGrowFile grow_file 2-methylpropane_grow.txt  \n",
      "Movie output_file 2-methylpropane.xyz trials_per_write 100000.0  \n",
      "Log include_bonds true output_file 2-methylpropane.txt trials_per_write 100000.0  \n",
      "Energy output_file 2-methylpropane_en.txt trials_per_write 100000.0  \n",
      "AnalyzeBonds angle_bin_center 1.7453292519943295 angle_bin_width 0.01 output_file 2-methylpropane_bonds.txt trials_per_write 100000.0  \n",
      "CheckEnergy tolerance 1e-8 trials_per_update 100000.0  \n",
      "Run num_trials 100000.0  \n",
      " \n",
      " exit: 0\n"
     ]
    }
   ],
   "source": [
    "params['prefix'] = params['molecule'] = '2-methylpropane'\n",
    "params['production'] = params['trials_per'] = 1e5\n",
    "run_sim(params)"
   ]
  },
  {
   "cell_type": "code",
   "execution_count": 5,
   "id": "293c00fb",
   "metadata": {},
   "outputs": [
    {
     "name": "stderr",
     "output_type": "stream",
     "text": [
      "test (__main__.Test2MethylpropaneAngle) ... ok\n",
      "test (__main__.TestPropaneAngle) ... ok\n",
      "\n",
      "----------------------------------------------------------------------\n",
      "Ran 2 tests in 0.012s\n",
      "\n",
      "OK\n"
     ]
    },
    {
     "data": {
      "text/plain": [
       "<unittest.main.TestProgram at 0x7f68d846fd60>"
      ]
     },
     "execution_count": 5,
     "metadata": {},
     "output_type": "execute_result"
    },
    {
     "data": {
      "image/png": "[encoded data removed]",
      "text/plain": [
       "<Figure size 640x480 with 1 Axes>"
      ]
     },
     "metadata": {},
     "output_type": "display_data"
    }
   ],
   "source": [
    "class Test2MethylpropaneAngle(unittest.TestCase):\n",
    "    def test(self):\n",
    "        chen = pd.read_csv('../test/data/2-methylpropane_bonds.txt', comment='#', header=None)\n",
    "        df = pd.read_csv('2-methylpropane_bonds.txt', skiprows=10, header=None)\n",
    "        for d in [df, chen]:\n",
    "            d[1] /= d[1].max()\n",
    "        self.assertAlmostEqual(chen[1].mean(), df[1].mean(), delta=0.4)\n",
    "        self.assertAlmostEqual(chen[1].std(), df[1].std(), delta=0.2)\n",
    "        plt.step(chen[0], chen[1], color='black')\n",
    "        plt.step(df[0]/np.pi*180, df[1])\n",
    "        plt.axvline(112, color='black', linestyle='dotted')\n",
    "        \n",
    "unittest.main(argv=[''], verbosity=2, exit=False)"
   ]
  },
  {
   "cell_type": "code",
   "execution_count": 2,
   "id": "c9c0023a",
   "metadata": {
    "scrolled": true
   },
   "outputs": [
    {
     "name": "stdout",
     "output_type": "stream",
     "text": [
      "# FEASST version: v0.24.5-3-g7548e16503-hwh/srswmonoclinic4\n",
      "MonteCarlo\n",
      "RandomMT19937 seed 913109576  \n",
      "# initializing random number generator with seed: 913109576\n",
      "Configuration add_particles_of_type0 1 cubic_side_length 30 particle_type0 branchk1.fstprt  \n",
      "Potential Model HardSphere  \n",
      "Potential Model HardSphere VisitModel VisitModelIntraMap exclude_bonds true  \n",
      "ThermoParams beta 0.4009078501424201 chemical_potential 1  \n",
      "Metropolis  \n",
      "TrialGrowFile grow_file branchk1_grow.txt  \n",
      "Movie output_file branchk1.xyz trials_per_write 10000000.0  \n",
      "Log include_bonds true output_file branchk1.txt trials_per_write 10000000.0  \n",
      "Energy output_file branchk1_en.txt trials_per_write 10000000.0  \n",
      "AnalyzeBonds angle_bin_center 1.7453292519943295 angle_bin_width 0.01 output_file branchk1_bonds.txt trials_per_write 10000000.0  \n",
      "CheckEnergy tolerance 1e-8 trials_per_update 10000000.0  \n",
      "Run num_trials 10000000.0  \n",
      " \n",
      " exit: 0\n"
     ]
    }
   ],
   "source": [
    "# run simulations\n",
    "ks = [1]\n",
    "for k in ks:\n",
    "    params['k'] = k\n",
    "    params['prefix'] = \"branchk\" + str(params['k'])\n",
    "    params['molecule'] = 'floppy_branch'\n",
    "    params['production'] = params['trials_per'] = 1e7\n",
    "    run_sim(params)"
   ]
  },
  {
   "cell_type": "code",
   "execution_count": 6,
   "id": "sublime-extent",
   "metadata": {},
   "outputs": [
    {
     "name": "stderr",
     "output_type": "stream",
     "text": [
      "test (__main__.TestFloppyBranch) ... ok\n",
      "\n",
      "----------------------------------------------------------------------\n",
      "Ran 1 test in 0.009s\n",
      "\n",
      "OK\n"
     ]
    },
    {
     "data": {
      "text/plain": [
       "<unittest.main.TestProgram at 0x7f23209693f0>"
      ]
     },
     "execution_count": 6,
     "metadata": {},
     "output_type": "execute_result"
    },
    {
     "data": {
      "image/png": "[encoded data removed]",
      "text/plain": [
       "<Figure size 640x480 with 1 Axes>"
      ]
     },
     "metadata": {},
     "output_type": "display_data"
    }
   ],
   "source": [
    "class TestFloppyBranch(unittest.TestCase):\n",
    "    def test(self):\n",
    "        for k in ks:\n",
    "            params['k'] = k\n",
    "            update_params(params)\n",
    "            df = pd.read_csv(\"branchk\"+str(k)+'_bonds.txt', skiprows=10, header=None)\n",
    "            #print(df)\n",
    "            #plt.axvline(60, color='black', linestyle='dotted')\n",
    "            previous = pd.read_csv('../test/data/branchk'+str(k)+'_bonds.txt', skiprows=10, header=None)\n",
    "            for d in [df, previous]:\n",
    "                d[1] /= d[1].max()\n",
    "            self.assertAlmostEqual(previous[1].mean(), df[1].mean(), delta=0.08)\n",
    "            self.assertAlmostEqual(previous[1].std(), df[1].std(), delta=0.08)\n",
    "            plt.step(df[0]/np.pi*180, df[1], label='new')#'k='+str(k))\n",
    "            plt.step(previous[0]/np.pi*180, previous[1], label='old')#'k='+str(k))\n",
    "            \n",
    "        plt.legend()\n",
    "        \n",
    "unittest.main(argv=[''], verbosity=2, exit=False)"
   ]
  },
  {
   "cell_type": "markdown",
   "id": "postal-valentine",
   "metadata": {},
   "source": [
    "Did this tutorial work as expected? Did you find any inconsistencies or have any comments? Please [contact](../../../CONTACT.rst) us. Any feedback is appreciated!"
   ]
  }
 ],
 "metadata": {
  "kernelspec": {
   "display_name": "Python 3 (ipykernel)",
   "language": "python",
   "name": "python3"
  },
  "language_info": {
   "codemirror_mode": {
    "name": "ipython",
    "version": 3
   },
   "file_extension": ".py",
   "mimetype": "text/x-python",
   "name": "python",
   "nbconvert_exporter": "python",
   "pygments_lexer": "ipython3",
   "version": "3.10.12"
  }
 },
 "nbformat": 4,
 "nbformat_minor": 5
}
