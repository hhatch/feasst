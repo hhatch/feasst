{
 "cells": [
  {
   "cell_type": "markdown",
   "id": "agricultural-poultry",
   "metadata": {},
   "source": [
    "# Testing the branching algorithm\n",
    "\n",
    "Following https://doi.org/10.1021/acs.jctc.7b00173 , compute the angle distributions.\n",
    "\n",
    "Begin by testing a very flexible molecule as follows:\n",
    "\n",
    "      1\n",
    "      |\n",
    "      0\n",
    "     /  \\\n",
    "    2    3\n",
    "\n",
    "Where the equilibrium angles are all 60 degrees but the harmonic angle potential is not strong. The bonds are rigid with a length of 2 and the diameters of the beads are 1."
   ]
  },
  {
   "cell_type": "code",
   "execution_count": 4,
   "id": "photographic-small",
   "metadata": {},
   "outputs": [
    {
     "name": "stdout",
     "output_type": "stream",
     "text": [
      "# FEASST version: v0.24.5-3-g7548e16503-hwh/srswmonoclinic4\n",
      "MonteCarlo\n",
      "RandomMT19937 seed 479563718  \n",
      "# initializing random number generator with seed: 479563718\n",
      "Configuration add_particles_of_type0 1 cubic_side_length 30 particle_type0 flexible_3_branch.fstprt  \n",
      "Potential Model HardSphere  \n",
      "Potential Model HardSphere VisitModel VisitModelIntraMap exclude_bonds true  \n",
      "ThermoParams beta 1 chemical_potential 1  \n",
      "Metropolis  \n",
      "TrialGrowFile grow_file flexible_3_branch_grow.txt  \n",
      "Movie output_file flexible_3_branch.xyz trials_per_write 100000.0  \n",
      "Log include_bonds true output_file flexible_3_branch.txt trials_per_write 100000.0  \n",
      "Energy output_file flexible_3_branch_en.txt trials_per_write 100000.0  \n",
      "AnalyzeBonds output_file flexible_3_branch_bonds.txt trials_per_write 100000.0  \n",
      "CheckEnergy tolerance 1e-8 trials_per_update 100000.0  \n",
      "Run num_trials 100000.0  \n",
      " \n",
      " exit: 0\n"
     ]
    }
   ],
   "source": [
    "import sys\n",
    "import subprocess\n",
    "import argparse\n",
    "import random\n",
    "import unittest\n",
    "import numpy as np\n",
    "import pandas as pd\n",
    "\n",
    "params = {\n",
    "    \"prefix\": \"flexible_3_branch\",\n",
    "    \"cubic_side_length\": 90, \"beta\": 1,\n",
    "    \"trials_per\": 1e5, \"seed\": random.randrange(int(1e9)),\n",
    "    \"production\": 1e5}\n",
    "\n",
    "with open(params['prefix']+'.fstprt', 'w') as file1:\n",
    "    file1.write(\"\"\"\n",
    "4 sites\n",
    "3 bonds\n",
    "3 angles\n",
    "\n",
    "1 site types\n",
    "1 bond types\n",
    "1 angle types\n",
    "\n",
    "Site Properties\n",
    "\n",
    "0 epsilon 1 sigma 1 cutoff 1\n",
    "\n",
    "Sites\n",
    "\n",
    "0 0 0 0 0\n",
    "1 0 1 0 0\n",
    "2 0 0 1 0\n",
    "3 0 0 0 1\n",
    "\n",
    "Bonds\n",
    "\n",
    "0 0 0 1\n",
    "0 0 0 2\n",
    "0 0 0 3\n",
    "\n",
    "Bond Properties\n",
    "\n",
    "0 RigidBond length 1 delta 0.0001\n",
    "\n",
    "Angles\n",
    "\n",
    "0 0 1 0 2\n",
    "0 0 1 0 3\n",
    "0 0 2 0 3\n",
    "\n",
    "Angle Properties\n",
    "\n",
    "0 AngleHarmonic equilibrium_degrees 60 k_energy_per_radian_sq 1\n",
    "\"\"\")\n",
    "\n",
    "with open(params['prefix']+'_grow.txt', 'w') as file1:\n",
    "    file1.write(\"\"\"TrialGrowFile\n",
    "\n",
    "particle_type 0 branch true mobile_site 2 mobile_site2 3 anchor_site 0 anchor_site2 1\n",
    "\"\"\")\n",
    "\n",
    "# write fst script to run a single simulation\n",
    "with open('script.txt', \"w\") as myfile: myfile.write(\"\"\"\n",
    "MonteCarlo\n",
    "RandomMT19937 seed {seed}\n",
    "Configuration cubic_side_length 30 add_particles_of_type0 1 particle_type0 {prefix}.fstprt\n",
    "Potential Model HardSphere\n",
    "Potential Model HardSphere VisitModel VisitModelIntraMap exclude_bonds true\n",
    "ThermoParams beta {beta} chemical_potential 1\n",
    "Metropolis\n",
    "TrialGrowFile grow_file {prefix}_grow.txt\n",
    "Movie trials_per_write {trials_per} output_file {prefix}.xyz\n",
    "Log trials_per_write {trials_per} output_file {prefix}.txt include_bonds true\n",
    "Energy trials_per_write {trials_per} output_file {prefix}_en.txt\n",
    "AnalyzeBonds trials_per_write {trials_per} output_file {prefix}_bonds.txt\n",
    "CheckEnergy trials_per_update {trials_per} tolerance 1e-8\n",
    "Run num_trials {production}\n",
    "\"\"\".format(**params))\n",
    "\n",
    "import subprocess\n",
    "syscode = subprocess.call(\"../../../build/bin/fst < script.txt > script.log\", shell=True, executable='/bin/bash')\n",
    "with open('script.log', 'r') as file: print(file.read(), '\\n', 'exit:', syscode)"
   ]
  },
  {
   "cell_type": "code",
   "execution_count": 2,
   "id": "sublime-extent",
   "metadata": {},
   "outputs": [
    {
     "name": "stderr",
     "output_type": "stream",
     "text": [
      "test (__main__.TestFreelyJointedIdealChain) ... ok\n",
      "\n",
      "----------------------------------------------------------------------\n",
      "Ran 1 test in 0.003s\n",
      "\n",
      "OK\n"
     ]
    },
    {
     "name": "stdout",
     "output_type": "stream",
     "text": [
      "drg_dbeta -0.09925819217655563\n"
     ]
    },
    {
     "data": {
      "text/plain": [
       "<unittest.main.TestProgram at 0x7f2aee30abc0>"
      ]
     },
     "execution_count": 2,
     "metadata": {},
     "output_type": "execute_result"
    }
   ],
   "source": [
    "def rg_fit(beta, beta1, rg1, der1):\n",
    "    return rg1 + (beta - beta1)*der1\n",
    "\n",
    "class TestFreelyJointedIdealChain(unittest.TestCase):\n",
    "    def test(self):\n",
    "        taylor2001 = pd.read_csv('../test/data/taylor2001rg.csv', header=None)\n",
    "        #print(taylor2001)\n",
    "        rgdf = pd.read_csv('chain5rg.txt')\n",
    "        endf = pd.read_csv('chain5en.txt')\n",
    "        rg = rgdf['average'].values[0]\n",
    "        en = endf['average'].values[0]\n",
    "        self.assertAlmostEqual(rg, np.sqrt(0.88), delta=0.01)\n",
    "        self.assertAlmostEqual(en, -2.04, delta=0.06)\n",
    "        rg_en = rgdf['rgu'].values[0]\n",
    "        drg_dbeta = rg*en - rg_en\n",
    "        self.assertAlmostEqual(drg_dbeta, -0.186/2, delta=0.01)\n",
    "        print('drg_dbeta', drg_dbeta)\n",
    "\n",
    "#         import matplotlib.pyplot as plt\n",
    "#         plt.scatter(params['beta'], rg, label='explicit sim')\n",
    "#         plt.plot(1./taylor2001[0], np.sqrt(taylor2001[1]), label='taylor2001')\n",
    "#         plt.plot(1./taylor2001[0],\n",
    "#                  rg_fit(beta=1./taylor2001[0],\n",
    "#                         beta1=params['beta'],\n",
    "#                         rg1=rg,\n",
    "#                         der1=drg_dbeta),\n",
    "#                  label='1st order extrapolation')\n",
    "#         plt.xscale('log')\n",
    "#         plt.ylim([0.2, 1.3])\n",
    "#         plt.legend()\n",
    "#         plt.xlabel(r'$\\beta$', fontsize=16)\n",
    "#         plt.ylabel(r'$R_g$', fontsize=16)\n",
    "#         plt.show()\n",
    "\n",
    "        \n",
    "unittest.main(argv=[''], verbosity=2, exit=False)"
   ]
  },
  {
   "cell_type": "markdown",
   "id": "postal-valentine",
   "metadata": {},
   "source": [
    "Did this tutorial work as expected? Did you find any inconsistencies or have any comments? Please [contact](../../../CONTACT.rst) us. Any feedback is appreciated!"
   ]
  }
 ],
 "metadata": {
  "kernelspec": {
   "display_name": "Python 3 (ipykernel)",
   "language": "python",
   "name": "python3"
  },
  "language_info": {
   "codemirror_mode": {
    "name": "ipython",
    "version": 3
   },
   "file_extension": ".py",
   "mimetype": "text/x-python",
   "name": "python",
   "nbconvert_exporter": "python",
   "pygments_lexer": "ipython3",
   "version": "3.10.12"
  }
 },
 "nbformat": 4,
 "nbformat_minor": 5
}
