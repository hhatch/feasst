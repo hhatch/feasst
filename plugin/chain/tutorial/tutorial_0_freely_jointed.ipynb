{
 "cells": [
  {
   "cell_type": "markdown",
   "id": "agricultural-poultry",
   "metadata": {},
   "source": [
    "# Simulation of a single freely-jointed chain"
   ]
  },
  {
   "cell_type": "code",
   "execution_count": 1,
   "id": "photographic-small",
   "metadata": {},
   "outputs": [
    {
     "name": "stdout",
     "output_type": "stream",
     "text": [
      "v0.16.0-4-g799a04797d-hwh/chaintutorial\n"
     ]
    }
   ],
   "source": [
    "import unittest\n",
    "import gen_chain\n",
    "import math\n",
    "import feasst as fst\n",
    "print(fst.version())\n",
    "\n",
    "def end_to_end_distance(mc):\n",
    "    config = mc.system().configuration()\n",
    "    pos = config.particle(0).site(0).position()\n",
    "    return pos.distance(config.particle(0).site(config.particle(0).num_sites() - 1).position())\n",
    "\n",
    "def radius_of_gyration(mc):\n",
    "    config = mc.system().configuration()\n",
    "    r_cm = fst.Position(config.dimension())\n",
    "    n = config.particle(0).num_sites()\n",
    "    for i in range(n):\n",
    "        r_cm.add(config.particle(0).site(i).position())\n",
    "    r_cm.divide(n)\n",
    "    rg = 0\n",
    "    for i in range(n):\n",
    "        rg += config.particle(0).site(i).position().squared_distance(r_cm)\n",
    "    return rg/n\n",
    "        \n",
    "class TestFreelyJointedIdealChain(unittest.TestCase):\n",
    "    def test(self):\n",
    "        n=10000\n",
    "        gen_chain.linear_single_site(n, \"data.chain\")\n",
    "        mc = fst.MonteCarlo()\n",
    "        mc.set(fst.MakeRandomMT19937(fst.args({\"seed\": \"time\"})))\n",
    "        mc.add(fst.Configuration(fst.MakeDomain(fst.args({\"cubic_box_length\": str(3*n)})),\n",
    "                                 fst.args({\"particle_type\": \"data.chain\"})))\n",
    "        mc.add(fst.MakePotential(fst.DontVisitModel()))\n",
    "        mc.set(fst.MakeThermoParams(fst.args({\"beta\": \"1\", \"chemical_potential0\": \"1\"})))\n",
    "        mc.set(fst.MakeMetropolis())\n",
    "        fst.SeekNumParticles(1).with_trial_add().run(mc)\n",
    "        mc.add(fst.MakeTrialGrowLinear(fst.MakeTrialComputeMove(), fst.args({\"particle_type\": \"0\"})))\n",
    "        steps_per = str(int(1))\n",
    "        mc.add(fst.MakeLogAndMovie(fst.args({\"steps_per\": steps_per, \"file_name\": \"chain\"})))\n",
    "        end_to_end = fst.Accumulator()\n",
    "        rg2 = fst.Accumulator()\n",
    "        for i in range(int(1e2)):\n",
    "            mc.attempt()\n",
    "            end_to_end.accumulate(end_to_end_distance(mc))\n",
    "            rg2.accumulate(radius_of_gyration(mc))\n",
    "        print(end_to_end.str())\n",
    "        print(rg2.str())\n",
    "        self.assertAlmostEqual(end_to_end.average(), math.sqrt(n), delta=20)\n",
    "        self.assertAlmostEqual(rg2.average(), n/6, delta=200)"
   ]
  },
  {
   "cell_type": "code",
   "execution_count": 2,
   "id": "sublime-extent",
   "metadata": {},
   "outputs": [
    {
     "name": "stderr",
     "output_type": "stream",
     "text": [
      "test (__main__.TestFreelyJointedIdealChain) ... "
     ]
    },
    {
     "name": "stdout",
     "output_type": "stream",
     "text": [
      "average,stdev,block_stdev,n,moment0,moment1,\n",
      "92.762178453869083,41.820156853843137,0,100,9276.2178453869082,1033625.8015594697,\n",
      "average,stdev,block_stdev,n,moment0,moment1,\n",
      "1838.1569029766988,1036.4719372753318,0,100,183815.69029766987,444235213.59525753,\n"
     ]
    },
    {
     "name": "stderr",
     "output_type": "stream",
     "text": [
      "ok\n",
      "\n",
      "----------------------------------------------------------------------\n",
      "Ran 1 test in 17.671s\n",
      "\n",
      "OK\n"
     ]
    },
    {
     "data": {
      "text/plain": [
       "<unittest.main.TestProgram at 0x7f1e40794b80>"
      ]
     },
     "execution_count": 2,
     "metadata": {},
     "output_type": "execute_result"
    }
   ],
   "source": [
    "unittest.main(argv=[''], verbosity=2, exit=False)"
   ]
  },
  {
   "cell_type": "code",
   "execution_count": null,
   "id": "greater-grounds",
   "metadata": {},
   "outputs": [],
   "source": []
  }
 ],
 "metadata": {
  "kernelspec": {
   "display_name": "Python 3",
   "language": "python",
   "name": "python3"
  },
  "language_info": {
   "codemirror_mode": {
    "name": "ipython",
    "version": 3
   },
   "file_extension": ".py",
   "mimetype": "text/x-python",
   "name": "python",
   "nbconvert_exporter": "python",
   "pygments_lexer": "ipython3",
   "version": "3.8.5"
  }
 },
 "nbformat": 4,
 "nbformat_minor": 5
}
