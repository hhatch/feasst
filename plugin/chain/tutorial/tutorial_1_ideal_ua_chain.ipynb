{
 "cells": [
  {
   "cell_type": "markdown",
   "id": "greatest-sullivan",
   "metadata": {},
   "source": [
    "# Simulation of a single chain"
   ]
  },
  {
   "cell_type": "code",
   "execution_count": 1,
   "id": "dynamic-alexander",
   "metadata": {},
   "outputs": [
    {
     "name": "stdout",
     "output_type": "stream",
     "text": [
      "v0.16.0-6-gb9ee4eb228-dirty-hwh/jacob\n",
      "Potential energy of initial configuration: -0.19650552006989874\n"
     ]
    }
   ],
   "source": [
    "import unittest\n",
    "import feasst as fst\n",
    "print(fst.version())\n",
    "\n",
    "def calc_rg2(mc):\n",
    "    conf = mc.system().configuration()\n",
    "    rg2_sum = 0.0\n",
    "    for i in range(conf.particle(0).num_sites() - 1):\n",
    "        pos = conf.particle(0).site(i).position()\n",
    "        for j in range(i+1, conf.particle(0).num_sites()):\n",
    "            rg2_sum += pos.squared_distance(conf.particle(0).site(j).position())\n",
    "    rg2 = rg2_sum / (conf.particle(0).num_sites()**2)\n",
    "    return rg2\n",
    "\n",
    "mc = fst.MonteCarlo()\n",
    "mc.set(fst.MakeRandomMT19937(fst.args({\"seed\": \"time\"})))\n",
    "mc.add(fst.Configuration(fst.MakeDomain(fst.args({\"cubic_box_length\": \"40\",\n",
    "                                                  \"periodic0\": \"False\",\n",
    "                                                  \"periodic1\": \"False\",\n",
    "                                                  \"periodic2\": \"False\"})),\n",
    "                         fst.args({\"particle_type\": fst.install_dir() + \"/plugin/chain/forcefield/data.chain5\"})))\n",
    "mc.get_system().get_configuration().set_model_param(\"cutoff\", 0, 20)\n",
    "mc.add(fst.MakePotential(fst.MakeLennardJones(),\n",
    "                         fst.MakeVisitModelIntra(fst.args({\"cutoff\": \"1\"}))))\n",
    "mc.set(fst.MakeThermoParams(fst.args({\"beta\": \"1\", \"chemical_potential0\": \"1\"})))\n",
    "mc.set(fst.MakeMetropolis())\n",
    "fst.SeekNumParticles(1).with_trial_add().run(mc)\n",
    "mc.add(fst.MakeTrialPivot(fst.args({\"weight\": \"1\", \"tunable_param\": \"20\"})))\n",
    "mc.add(fst.MakeTrialCrankshaft(fst.args({\"weight\": \"1\", \"tunable_param\": \"20\"})))\n",
    "mc.add(fst.MakeTrialReptate(fst.args({\"weight\": \"1\", \"max_length\": \"1\", \"particle_type\": \"0\"})))\n",
    "mc.add(fst.MakeTrialGrowLinear(fst.MakeTrialComputeMove(),\n",
    "                               fst.args({\"weight\": \"1\", \"particle_type\": \"0\", \"num_steps\": \"3\"})))\n",
    "steps_per = str(int(1e4))\n",
    "mc.add(fst.MakeLogAndMovie(fst.args({\"steps_per\": steps_per, \"file_name\": \"chain\"})))\n",
    "mc.add(fst.MakeEnergy(fst.args({\"steps_per_write\": steps_per, \"file_name\": \"chain_en.txt\"})))\n",
    "mc.add(fst.MakeCheckEnergyAndTune(fst.args({\"steps_per\": steps_per, \"tolerance\": str(1e-10)})))\n",
    "print('Potential energy of initial configuration:', mc.criteria().current_energy())\n",
    "rg2 = fst.Accumulator()\n",
    "mc.attempt(int(1e3)) # equilibrate\n",
    "for n in range(int(1e5)):\n",
    "    mc.attempt()\n",
    "    rg2.accumulate(calc_rg2(mc))\n",
    "            \n",
    "class TestChain5RG(unittest.TestCase):\n",
    "    def test_rg_en(self):\n",
    "        print(rg2.str())\n",
    "        self.assertAlmostEqual(0.8806, rg2.average(), delta=0.01)\n",
    "        self.assertAlmostEqual(-2.050,\n",
    "            fst.SeekAnalyze().reference(\"Energy\", mc).accumulator().average(),\n",
    "            delta=0.01)"
   ]
  },
  {
   "cell_type": "code",
   "execution_count": 2,
   "id": "super-messenger",
   "metadata": {},
   "outputs": [
    {
     "name": "stderr",
     "output_type": "stream",
     "text": [
      "test_rg_en (__main__.TestChain5RG) ... "
     ]
    },
    {
     "name": "stdout",
     "output_type": "stream",
     "text": [
      "average,stdev,block_stdev,n,moment0,moment1,\n",
      "0.88120966964056657,0.23124453441329634,0,100000,88120.966964056653,83000.398182371176,\n",
      "CPU times: user 3.59 ms, sys: 0 ns, total: 3.59 ms\n",
      "Wall time: 2.77 ms\n"
     ]
    },
    {
     "name": "stderr",
     "output_type": "stream",
     "text": [
      "ok\n",
      "\n",
      "----------------------------------------------------------------------\n",
      "Ran 1 test in 0.001s\n",
      "\n",
      "OK\n"
     ]
    },
    {
     "data": {
      "text/plain": [
       "<unittest.main.TestProgram at 0x7f2d3c9def40>"
      ]
     },
     "execution_count": 2,
     "metadata": {},
     "output_type": "execute_result"
    }
   ],
   "source": [
    "%time\n",
    "unittest.main(argv=[''], verbosity=2, exit=False)"
   ]
  },
  {
   "cell_type": "markdown",
   "id": "ordinary-classics",
   "metadata": {},
   "source": [
    "Did this tutorial work as expected? Did you find any inconsistencies or have any comments? Please [contact](../../../CONTACT.rst) us. Any feedback is appreciated!"
   ]
  }
 ],
 "metadata": {
  "kernelspec": {
   "display_name": "Python 3",
   "language": "python",
   "name": "python3"
  },
  "language_info": {
   "codemirror_mode": {
    "name": "ipython",
    "version": 3
   },
   "file_extension": ".py",
   "mimetype": "text/x-python",
   "name": "python",
   "nbconvert_exporter": "python",
   "pygments_lexer": "ipython3",
   "version": "3.8.5"
  }
 },
 "nbformat": 4,
 "nbformat_minor": 5
}
