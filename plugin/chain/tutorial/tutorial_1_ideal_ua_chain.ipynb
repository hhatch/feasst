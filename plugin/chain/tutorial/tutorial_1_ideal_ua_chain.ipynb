{
 "cells": [
  {
   "cell_type": "markdown",
   "id": "greatest-sullivan",
   "metadata": {},
   "source": [
    "# Simulation of a single chain"
   ]
  },
  {
   "cell_type": "code",
   "execution_count": 11,
   "id": "dynamic-alexander",
   "metadata": {},
   "outputs": [
    {
     "name": "stdout",
     "output_type": "stream",
     "text": [
      "v0.16.0-dirty-hwh/chaintutorial\n",
      "Potential energy of initial configuration: -0.18457031249999972\n",
      "end to end 4.0\n",
      "average,stdev,block_stdev,n,moment0,moment1,\n",
      "2.0486368738472556,0.58845323867362531,0,100000,204863.68738472554,454318.67922199938,\n"
     ]
    }
   ],
   "source": [
    "import feasst as fst\n",
    "print(fst.version())\n",
    "\n",
    "def end_to_end_distance(mc):\n",
    "    config = mc.system().configuration()\n",
    "    pos = config.particle(0).site(0).position()\n",
    "    return pos.distance(config.particle(0).site(config.particle(0).num_sites() - 1).position())\n",
    "\n",
    "mc = fst.MonteCarlo()\n",
    "mc.set(fst.MakeRandomMT19937(fst.args({\"seed\": \"time\"})))\n",
    "mc.add(fst.Configuration(fst.MakeDomain(fst.args({\"cubic_box_length\": \"20\"})),\n",
    "                         fst.args({\"particle_type\": fst.install_dir() + \"/plugin/chain/forcefield/data.chain5\"})))\n",
    "mc.add(fst.MakePotential(fst.MakeDontVisitModel()))\n",
    "mc.add(fst.MakePotential(fst.MakeLennardJones(),\n",
    "                         fst.MakeVisitModelIntra(fst.args({\"cutoff\": \"1\"}))))\n",
    "mc.set(fst.MakeThermoParams(fst.args({\"beta\": \"1\", \"chemical_potential0\": \"1\"})))\n",
    "mc.set(fst.MakeMetropolis())\n",
    "fst.SeekNumParticles(1).with_trial_add().run(mc)\n",
    "mc.add(fst.MakeTrialPivot(fst.args({\"weight\": \"1\", \"tunable_param\": \"20\"})))\n",
    "mc.add(fst.MakeTrialCrankshaft(fst.args({\"weight\": \"1\", \"tunable_param\": \"20\"})))\n",
    "mc.add(fst.MakeTrialReptate(fst.args({\"weight\": \"1\", \"max_length\": \"1\"})))\n",
    "mc.add(fst.MakeTrialGrowLinear(fst.MakeTrialComputeMove(),\n",
    "                               fst.args({\"weight\": \"1\", \"particle_type\": \"0\"})))\n",
    "steps_per = str(int(1e4))\n",
    "mc.add(fst.MakeLogAndMovie(fst.args({\"steps_per\": steps_per, \"file_name\": \"chain\"})))\n",
    "mc.add(fst.MakeCheckEnergyAndTune(fst.args({\"steps_per\": steps_per, \"tolerance\": str(1e-10)})))\n",
    "mc.add(fst.MakeCheckRigidBonds(fst.args({\"steps_per\": steps_per})))\n",
    "print('Potential energy of initial configuration:', mc.criteria().current_energy())\n",
    "rg_sq = fst.Accumulator()\n",
    "print('end to end', end_to_end_distance(mc))\n",
    "mc.attempt(int(1e3)) # equilibrate\n",
    "for n in range(int(1e5)):\n",
    "    mc.attempt()\n",
    "    rg_sq.accumulate(end_to_end_distance(mc))\n",
    "\n",
    "print(rg_sq.str())"
   ]
  },
  {
   "cell_type": "code",
   "execution_count": null,
   "id": "super-messenger",
   "metadata": {},
   "outputs": [],
   "source": []
  },
  {
   "cell_type": "code",
   "execution_count": null,
   "id": "sublime-extent",
   "metadata": {},
   "outputs": [],
   "source": []
  }
 ],
 "metadata": {
  "kernelspec": {
   "display_name": "Python 3",
   "language": "python",
   "name": "python3"
  },
  "language_info": {
   "codemirror_mode": {
    "name": "ipython",
    "version": 3
   },
   "file_extension": ".py",
   "mimetype": "text/x-python",
   "name": "python",
   "nbconvert_exporter": "python",
   "pygments_lexer": "ipython3",
   "version": "3.8.5"
  }
 },
 "nbformat": 4,
 "nbformat_minor": 5
}
