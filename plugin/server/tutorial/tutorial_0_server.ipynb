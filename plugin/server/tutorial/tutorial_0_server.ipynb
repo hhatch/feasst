{
 "cells": [
  {
   "cell_type": "markdown",
   "id": "87bbf79d",
   "metadata": {},
   "source": [
    "# Run FEASST as server with Python client\n",
    "\n",
    "In this example, run feasst in server mode and use a Python client to send text interface commands."
   ]
  },
  {
   "cell_type": "code",
   "execution_count": 1,
   "id": "46b407e9",
   "metadata": {},
   "outputs": [
    {
     "name": "stdout",
     "output_type": "stream",
     "text": [
      "# FEASST version: v0.24.4-4-g68448a9657-dirty-user/server\n",
      "# initializing server on localhost:54321\n",
      "MonteCarlo\n",
      "Configuration cubic_side_length 8 particle_type0 /home/user/feasst/particle/lj.fstprt  \n",
      "Potential Model LennardJones  \n",
      "ThermoParams beta 1 chemical_potential0 1  \n",
      "Metropolis  \n",
      "TrialTranslate  \n",
      "TrialAdd particle_type 0  \n",
      "Run until_num_particles 20  \n",
      "# initializing random number generator with seed: 1706119047\n",
      "RemoveTrial name TrialAdd  \n",
      "Log output_file lj.csv  \n",
      "Run num_trials 10  \n"
     ]
    }
   ],
   "source": [
    "import multiprocessing\n",
    "import subprocess\n",
    "import time\n",
    "import socket\n",
    "\n",
    "PORT = 54321\n",
    "BUFFER_SIZE = 1000\n",
    "\n",
    "def server():\n",
    "    subprocess.call('echo \"Server port '+str(PORT)+' buffer_size '+str(BUFFER_SIZE)+'\" | ../../../build/bin/fst', shell=True, executable='/bin/bash')\n",
    "\n",
    "def client():\n",
    "    sock = socket.socket(socket.AF_INET, socket.SOCK_STREAM)\n",
    "    sock.connect((\"localhost\", PORT))\n",
    "    for line in ['MonteCarlo',\n",
    "                 'Configuration cubic_side_length 8 particle_type0 /feasst/particle/lj.fstprt',\n",
    "                 'Potential Model LennardJones',\n",
    "                 'ThermoParams beta 1 chemical_potential0 1',\n",
    "                 'Metropolis',\n",
    "                 'TrialTranslate',\n",
    "                 'TrialAdd particle_type 0',\n",
    "                 'Run until_num_particles 20',\n",
    "                 'RemoveTrial name TrialAdd',\n",
    "                 'Log output_file lj.csv',\n",
    "                 'Run num_trials 10']:\n",
    "        sock.send(bytes(line, 'utf-8'))\n",
    "        message = sock.recv(BUFFER_SIZE)\n",
    "        #print(str(message))\n",
    "\n",
    "if __name__ == '__main__':\n",
    "    proc1 = multiprocessing.Process(target=server, args=())\n",
    "    proc2 = multiprocessing.Process(target=client, args=())\n",
    "    proc1.start()\n",
    "    time.sleep(0.1)\n",
    "    proc2.start()\n",
    "    proc1.join()\n",
    "    proc2.join()"
   ]
  },
  {
   "cell_type": "markdown",
   "id": "4fcec3a9",
   "metadata": {},
   "source": [
    "Did this tutorial work as expected? Did you find any inconsistencies or have any comments? Please [contact](../../../CONTACT.rst) us. Any feedback is appreciated!"
   ]
  }
 ],
 "metadata": {
  "kernelspec": {
   "display_name": "Python 3 (ipykernel)",
   "language": "python",
   "name": "python3"
  },
  "language_info": {
   "codemirror_mode": {
    "name": "ipython",
    "version": 3
   },
   "file_extension": ".py",
   "mimetype": "text/x-python",
   "name": "python",
   "nbconvert_exporter": "python",
   "pygments_lexer": "ipython3",
   "version": "3.10.12"
  }
 },
 "nbformat": 4,
 "nbformat_minor": 5
}
