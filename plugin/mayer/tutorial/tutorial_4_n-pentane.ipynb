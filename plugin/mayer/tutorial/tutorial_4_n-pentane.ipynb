{
 "cells": [
  {
   "cell_type": "markdown",
   "metadata": {},
   "source": [
    "# Second virial coefficient calculation of TRAPPE n-pentane using Mayer-Sampling\n",
    "\n",
    "\n",
    "Here, we reproduce the virial coefficient of TRAPPE n-pentane\n",
    "\n",
    "Table 6 of https://doi.org/10.1021/jp972543+ reports −496 +/- 6 ml/mol at 395K"
   ]
  },
  {
   "cell_type": "code",
   "execution_count": 1,
   "metadata": {},
   "outputs": [],
   "source": [
    "import unittest\n",
    "import feasst as fst\n",
    "\n",
    "class TestMayerSamplingTRAPPEpentane(unittest.TestCase):\n",
    "    def test(self):\n",
    "        mc = fst.MonteCarlo()\n",
    "        config = fst.MakeConfiguration(fst.args({\"cubic_box_length\": str(fst.NEAR_INFINITY)}))\n",
    "        config.add_particle_type(\"data.n-pentane_with_ref\")\n",
    "        config.add_particle_type(\"data.n-pentane_with_ref\", \"2\")\n",
    "        config.add_particle_of_type(0)\n",
    "        config.add_particle_of_type(1)\n",
    "        for site in range(config.num_site_types()):\n",
    "            config.set_model_param(\"cutoff\", site, 1e4)\n",
    "        mc.add(config)\n",
    "        mc.add(fst.MakePotential(fst.MakeLennardJones()))\n",
    "        assert(False) # add Intra-molecular interactions, but excluding 1-4\n",
    "        \n",
    "        # reference is a hard sphere on the first site only\n",
    "        ref = fst.MakePotential(fst.MakeHardSphere())\n",
    "        ref_params = fst.ModelParams(mc.configuration().model_params())\n",
    "        for itype in range(mc.configuration().num_site_types()):\n",
    "            ref_params.set(\"sigma\", itype, 0)\n",
    "        for itype in [0, 3]:\n",
    "            for jtype in [0, 3]:\n",
    "                ref_params.set(\"sigma\", itype, jtype, 5)\n",
    "        ref.set(ref_params)\n",
    "        mc.add_to_reference(ref)\n",
    "\n",
    "        mc.set(fst.MakeThermoParams(fst.args({\"beta\": str(1./fst.kelvin2kJpermol(395))}))) # mol/kJ\n",
    "        mayer = fst.MakeMayerSampling()\n",
    "        mc.set(mayer)\n",
    "#         mc.add(fst.MakeTrialTranslate(fst.args({\"new_only\": \"true\", \"reference_index\": \"0\",\n",
    "#             \"tunable_param\": \"0.1\", \"particle_type\": \"1\"})))\n",
    "#         mc.add(fst.MakeTrialRotate(fst.args({\"new_only\": \"true\", \"reference_index\": \"0\",\n",
    "#             \"tunable_param\": \"40\"})))      \n",
    "        for ptype in range(mc.configuration().num_particle_types()):\n",
    "            trans = 0.1\n",
    "            if ptype == 0: trans = 0.0\n",
    "            mc.add(fst.MakeTrialGrow(fst.ArgsVector([\n",
    "                {\"particle_type\": str(ptype), \"translate\": \"true\", \"site\": \"0\", \"tunable_param\": str(trans)},\n",
    "                {\"bond\": \"true\", \"mobile_site\": \"1\", \"anchor_site\": \"0\"},\n",
    "                {\"angle\": \"true\", \"mobile_site\": \"2\", \"anchor_site\": \"1\", \"anchor_site2\": \"0\"},\n",
    "                {\"angle\": \"true\", \"mobile_site\": \"3\", \"anchor_site\": \"2\", \"anchor_site2\": \"1\"},\n",
    "                {\"angle\": \"true\", \"mobile_site\": \"4\", \"anchor_site\": \"3\", \"anchor_site2\": \"2\"}\n",
    "            ]), fst.args({\"reference_index\": \"0\", \"new_only\": \"true\"})))\n",
    "        steps_per = \"1e5\"\n",
    "        mc.add(fst.MakeLogAndMovie(fst.args({\"steps_per\": steps_per, \"file_name\": \"pentane\"})))\n",
    "        #mc.add(fst.MakeTune(fst.args({\"steps_per\": steps_per})))\n",
    "        #mc.attempt(int(1e5))\n",
    "        #mc.perform(fst.MakeRemoveModify(fst.args({\"name\": \"Tune\"})))\n",
    "        #mc.attempt(int(1e6))\n",
    "        #mayer = fst.MakeMayerSampling()\n",
    "        #mc.set(mayer)\n",
    "        mc.attempt(int(1e7))\n",
    "        b2hs = 2./3.*fst.PI*mc.configuration().model_params().sigma().value(0)**3  # A^3\n",
    "        b2hs *= 1e-30*1e3*1e3*mc.configuration().physical_constants().avogadro_constant() # L/mol\n",
    "        print('mayer', mayer.mayer().str())\n",
    "        print('mayer_ref', mayer.mayer_ref().str())\n",
    "        print('b22(L/mol)', b2hs*mayer.second_virial_ratio())\n",
    "        print('b22_block_stdev(L/mol)', b2hs*mayer.second_virial_ratio_block_stdev())\n",
    "        self.assertAlmostEqual(-496, b2hs*mayer.second_virial_ratio(),\n",
    "                               delta=3*b2hs*mayer.second_virial_ratio_block_stdev())"
   ]
  },
  {
   "cell_type": "markdown",
   "metadata": {},
   "source": [
    "If the test passes, the energy is within the tolerance of the SRSW value and the two ensemble average methods agreed."
   ]
  },
  {
   "cell_type": "code",
   "execution_count": 2,
   "metadata": {},
   "outputs": [
    {
     "name": "stderr",
     "output_type": "stream",
     "text": [
      "test (__main__.TestMayerSamplingTRAPPEpentane) ... "
     ]
    },
    {
     "name": "stdout",
     "output_type": "stream",
     "text": [
      "CPU times: user 2 µs, sys: 0 ns, total: 2 µs\n",
      "Wall time: 5.01 µs\n",
      "mayer average,stdev,block_stdev,n,moment0,moment1,\n",
      "0.54003100000000004,0.84164516862847782,0.017443304622447968,10000000,5400310,10000000,\n",
      "mayer_ref average,stdev,block_stdev,n,moment0,moment1,\n",
      "-0.16141789114258956,0.41539540941925629,0.011288473164046948,10000000,-1614178.9114258955,1986090.6449217787,\n",
      "b22(L/mol) -222.52066077121376\n",
      "b22_block_stdev(L/mol) 17.141287736221493\n"
     ]
    },
    {
     "name": "stderr",
     "output_type": "stream",
     "text": [
      "FAIL\n",
      "\n",
      "======================================================================\n",
      "FAIL: test (__main__.TestMayerSamplingTRAPPEpentane)\n",
      "----------------------------------------------------------------------\n",
      "Traceback (most recent call last):\n",
      "  File \"<ipython-input-1-0cacac33903a>\", line 61, in test\n",
      "    self.assertAlmostEqual(-496, b2hs*mayer.second_virial_ratio(),\n",
      "AssertionError: -496 != -222.52066077121376 within 51.42386320866447 delta (273.4793392287862 difference)\n",
      "\n",
      "----------------------------------------------------------------------\n",
      "Ran 1 test in 122.858s\n",
      "\n",
      "FAILED (failures=1)\n"
     ]
    },
    {
     "data": {
      "text/plain": [
       "<unittest.main.TestProgram at 0x7ff80c2add60>"
      ]
     },
     "execution_count": 2,
     "metadata": {},
     "output_type": "execute_result"
    }
   ],
   "source": [
    "%time  # Note: any line starting with % is only to be used with ipynb\n",
    "unittest.main(argv=[''], verbosity=2, exit=False)"
   ]
  },
  {
   "cell_type": "markdown",
   "metadata": {},
   "source": [
    "Did this tutorial work as expected? Did you find any inconsistencies or have any comments? Please [contact](../../../CONTACT.rst) us. Any feedback is appreciated!"
   ]
  }
 ],
 "metadata": {
  "kernelspec": {
   "display_name": "Python 3",
   "language": "python",
   "name": "python3"
  },
  "language_info": {
   "codemirror_mode": {
    "name": "ipython",
    "version": 3
   },
   "file_extension": ".py",
   "mimetype": "text/x-python",
   "name": "python",
   "nbconvert_exporter": "python",
   "pygments_lexer": "ipython3",
   "version": "3.8.10"
  }
 },
 "nbformat": 4,
 "nbformat_minor": 2
}
