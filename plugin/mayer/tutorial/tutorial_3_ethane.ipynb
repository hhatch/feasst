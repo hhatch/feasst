{
 "cells": [
  {
   "cell_type": "markdown",
   "metadata": {},
   "source": [
    "# Second virial coefficient calculation of TRAPPE ethane using Mayer-Sampling\n",
    "\n",
    "\n",
    "Here, we reproduce the virial coefficient of TRAPPE ethane\n",
    "\n",
    "Table 6 of https://doi.org/10.1021/jp972543+ reports −73 +/- 1 ml/mol at 423.2K"
   ]
  },
  {
   "cell_type": "code",
   "execution_count": 3,
   "metadata": {},
   "outputs": [],
   "source": [
    "import unittest\n",
    "import feasst as fst\n",
    "\n",
    "class TestMayerSamplingTRAPPEethane(unittest.TestCase):\n",
    "    def test(self):\n",
    "        mc = fst.MonteCarlo()\n",
    "        config = fst.MakeConfiguration(fst.args({\"cubic_box_length\": str(fst.NEAR_INFINITY)}))\n",
    "        config.add_particle_type(\"data.ethane_with_ref\")\n",
    "        config.add_particle_type(\"data.ethane_with_ref\", \"2\")\n",
    "        config.add_particle_of_type(0)\n",
    "        config.add_particle_of_type(1)\n",
    "        for site in range(config.num_site_types()):\n",
    "            config.set_model_param(\"cutoff\", site, 1e4)\n",
    "        mc.add(config)\n",
    "        mc.add(fst.MakePotential(fst.MakeLennardJones()))\n",
    "\n",
    "        # reference\n",
    "        ref = fst.MakePotential(fst.MakeHardSphere())\n",
    "        ref_params = fst.ModelParams(mc.configuration().model_params())\n",
    "        for itype in range(mc.configuration().num_site_types()):\n",
    "            ref_params.set(\"sigma\", itype, 0)\n",
    "        for itype in [0, 2]:\n",
    "            for jtype in [0, 2]:\n",
    "                ref_params.set(\"sigma\", itype, jtype, 4)\n",
    "        ref.set(ref_params)\n",
    "        mc.add_to_reference(ref)\n",
    "\n",
    "        mc.set(fst.MakeThermoParams(fst.args({\"beta\": str(1./423.2)}))) # 1/K\n",
    "        mayer = fst.MakeMayerSampling()\n",
    "        mc.set(mayer)\n",
    "        mc.add(fst.MakeTrialTranslate(fst.args({\"new_only\": \"true\", \"reference_index\": \"0\",\n",
    "            \"tunable_param\": \"0.1\", \"particle_type\": \"1\"})))\n",
    "        mc.add(fst.MakeTrialRotate(fst.args({\"new_only\": \"true\", \"reference_index\": \"0\",\n",
    "            \"tunable_param\": \"40\"})))\n",
    "        steps_per = \"1e5\"\n",
    "        mc.add(fst.MakeLogAndMovie(fst.args({\"steps_per\": steps_per, \"file_name\": \"ethane\"})))\n",
    "        mc.add(fst.MakeTune(fst.args({\"steps_per\": steps_per})))\n",
    "        mc.attempt(int(1e5))\n",
    "        mc.perform(fst.MakeRemoveModify(fst.args({\"name\": \"Tune\"})))\n",
    "        mc.attempt(int(1e6))\n",
    "        mayer = fst.MakeMayerSampling()\n",
    "        mc.set(mayer)\n",
    "        mc.attempt(int(1e7))\n",
    "        b2hs = 2./3.*fst.PI*mc.configuration().model_params().sigma().value(0)**3  # A^3\n",
    "        b2hs *= 1e-30*1e3*1e3*mc.configuration().physical_constants().avogadro_constant() # L/mol\n",
    "        print('mayer', mayer.mayer().str())\n",
    "        print('mayer_ref', mayer.mayer_ref().str())\n",
    "        print('b22(L/mol)', b2hs*mayer.second_virial_ratio())\n",
    "        print('b22_block_stdev(L/mol)', b2hs*mayer.second_virial_ratio_block_stdev())\n",
    "        self.assertAlmostEqual(-63, b2hs*mayer.second_virial_ratio(),\n",
    "                               delta=3*b2hs*mayer.second_virial_ratio_block_stdev())"
   ]
  },
  {
   "cell_type": "markdown",
   "metadata": {},
   "source": [
    "If the test passes, the energy is within the tolerance of the SRSW value and the two ensemble average methods agreed."
   ]
  },
  {
   "cell_type": "code",
   "execution_count": 4,
   "metadata": {},
   "outputs": [
    {
     "name": "stderr",
     "output_type": "stream",
     "text": [
      "test (__main__.TestMayerSamplingTRAPPEethane) ... "
     ]
    },
    {
     "name": "stdout",
     "output_type": "stream",
     "text": [
      "CPU times: user 6 µs, sys: 1 µs, total: 7 µs\n",
      "Wall time: 12.4 µs\n",
      "mayer average,stdev,block_stdev,n,moment0,moment1,\n",
      "0.31049120000000002,0.95057630155716089,0.022292153840626105,10000000,3104912,10000000,\n",
      "mayer_ref average,stdev,block_stdev,n,moment0,moment1,\n",
      "-0.31432066586921176,0.73509937945137171,0.011593521302031978,10000000,-3143206.6586921174,6391685.2462514667,\n",
      "b22(L/mol) -65.70216479676557\n",
      "b22_block_stdev(L/mol) 5.303260340558539\n"
     ]
    },
    {
     "name": "stderr",
     "output_type": "stream",
     "text": [
      "ok\n",
      "\n",
      "----------------------------------------------------------------------\n",
      "Ran 1 test in 19.510s\n",
      "\n",
      "OK\n"
     ]
    },
    {
     "data": {
      "text/plain": [
       "<unittest.main.TestProgram at 0x7f423c78c190>"
      ]
     },
     "execution_count": 4,
     "metadata": {},
     "output_type": "execute_result"
    }
   ],
   "source": [
    "%time  # Note: any line starting with % is only to be used with ipynb\n",
    "unittest.main(argv=[''], verbosity=2, exit=False)"
   ]
  },
  {
   "cell_type": "markdown",
   "metadata": {},
   "source": [
    "Did this tutorial work as expected? Did you find any inconsistencies or have any comments? Please [contact](../../../CONTACT.rst) us. Any feedback is appreciated!"
   ]
  }
 ],
 "metadata": {
  "kernelspec": {
   "display_name": "Python 3",
   "language": "python",
   "name": "python3"
  },
  "language_info": {
   "codemirror_mode": {
    "name": "ipython",
    "version": 3
   },
   "file_extension": ".py",
   "mimetype": "text/x-python",
   "name": "python",
   "nbconvert_exporter": "python",
   "pygments_lexer": "ipython3",
   "version": "3.8.10"
  }
 },
 "nbformat": 4,
 "nbformat_minor": 2
}
