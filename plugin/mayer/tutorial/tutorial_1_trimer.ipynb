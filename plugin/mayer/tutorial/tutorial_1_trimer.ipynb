{
 "cells": [
  {
   "cell_type": "markdown",
   "metadata": {},
   "source": [
    "# Second virial coefficient calculation of a Trimer using Mayer-Sampling\n",
    "\n",
    "\n",
    "Here, we reproduce the virial coefficient of a trimer at the Boyle temperature as reported Table 1 of the following manuscript for $L=0.4\\sigma$\n",
    "\n",
    "https://dx.doi.org/10.1063/1.4918557"
   ]
  },
  {
   "cell_type": "code",
   "execution_count": 1,
   "metadata": {},
   "outputs": [
    {
     "name": "stdout",
     "output_type": "stream",
     "text": [
      "# FEASST version: v0.19.0-104-gc3a7e003a2-dirty-user/newtutorials\n",
      "Configuration add_particles_of_type0 2 cubic_side_length 1e100 cutoff0_1 1.122462048309373 cutoff1_1 1.122462048309373 first_particle_index 0 group0 first particle_type0 /home/user/feasst/particle/trimer_0.4L.fstprt  \n",
      "Potential Model LennardJonesForceShift  \n",
      "RefPotential Model HardSphere sigma0 1 sigma1 0  \n",
      "ThermoParams beta 1.2269938650306749  \n",
      "MayerSampling  \n",
      "TrialTranslate group first new_only true reference_index 0 tunable_param 1  \n",
      "TrialRotate new_only true reference_index 0 tunable_param 40  \n",
      "CriteriaWriter output_file b2.txt trials_per 1e4  \n",
      "Log output_file tmp/trib.txt trials_per 1e4  \n",
      "Movie output_file tmp/trib.xyz trials_per 1e4  \n",
      "Run num_trials 1e6  \n",
      "# initializing random number generator with seed: 1653572226\n",
      " \n",
      " exit: 0\n"
     ]
    }
   ],
   "source": [
    "params={\"beta\": 1./0.815, \"rwca\": 2.**(1./6.)}\n",
    "\n",
    "script=\"\"\"\n",
    "MonteCarlo\n",
    "Configuration cubic_side_length 1e100 particle_type0 /feasst/particle/trimer_0.4L.fstprt \\\n",
    "    add_particles_of_type0 2 cutoff0_1 {rwca} cutoff1_1 {rwca} \\\n",
    "    group0 first first_particle_index 0\n",
    "Potential Model LennardJonesForceShift\n",
    "RefPotential Model HardSphere sigma0 1 sigma1 0\n",
    "ThermoParams beta {beta}\n",
    "MayerSampling\n",
    "TrialTranslate new_only true reference_index 0 tunable_param 1 group first\n",
    "TrialRotate new_only true reference_index 0 tunable_param 40\n",
    "set_variable trials_per 1e4\n",
    "CriteriaWriter trials_per_write trials_per output_file b2.txt\n",
    "Log trials_per_write trials_per output_file tmp/trib.txt\n",
    "Movie trials_per_write trials_per output_file tmp/trib.xyz\n",
    "Run num_trials 1e6\n",
    "\"\"\".format(**params)\n",
    "\n",
    "with open('script.txt', 'w') as file: file.write(script)\n",
    "import subprocess\n",
    "syscode = subprocess.call(\"../../../build/bin/fst < script.txt > script.log\", shell=True, executable='/bin/bash')\n",
    "with open('script.log', 'r') as file: print(file.read(), '\\n', 'exit:', syscode)"
   ]
  },
  {
   "cell_type": "code",
   "execution_count": 2,
   "metadata": {},
   "outputs": [
    {
     "name": "stderr",
     "output_type": "stream",
     "text": [
      "test (__main__.TestMayerSamplingTrimer) ... "
     ]
    },
    {
     "name": "stdout",
     "output_type": "stream",
     "text": [
      "{'second_virial_ratio': -0.0067179, 'second_virial_ratio_block_stdev': 0.0132613}\n"
     ]
    },
    {
     "name": "stderr",
     "output_type": "stream",
     "text": [
      "ok\n",
      "\n",
      "----------------------------------------------------------------------\n",
      "Ran 1 test in 0.001s\n",
      "\n",
      "OK\n"
     ]
    },
    {
     "data": {
      "text/plain": [
       "<unittest.main.TestProgram at 0x7f0df8193eb0>"
      ]
     },
     "execution_count": 2,
     "metadata": {},
     "output_type": "execute_result"
    }
   ],
   "source": [
    "import math\n",
    "import unittest\n",
    "class TestMayerSamplingTrimer(unittest.TestCase):\n",
    "    def test(self):\n",
    "        with open(\"b2.txt\") as f:\n",
    "            firstline = f.readline().rstrip()\n",
    "            #print(firstline)\n",
    "            b2=eval(firstline)\n",
    "            #b2={\"second_virial_ratio\": -0.0166853, \"second_virial_ratio_block_stdev\": 0.0159632}\n",
    "            print(b2)\n",
    "# print(mayer.mayer().str())\n",
    "            self.assertAlmostEqual(0, b2['second_virial_ratio'], delta=4*b2['second_virial_ratio_block_stdev'])\n",
    "unittest.main(argv=[''], verbosity=2, exit=False)"
   ]
  },
  {
   "cell_type": "markdown",
   "metadata": {},
   "source": [
    "Did this tutorial work as expected? Did you find any inconsistencies or have any comments? Please [contact](../../../CONTACT.rst) us. Any feedback is appreciated!"
   ]
  }
 ],
 "metadata": {
  "kernelspec": {
   "display_name": "Python 3 (ipykernel)",
   "language": "python",
   "name": "python3"
  },
  "language_info": {
   "codemirror_mode": {
    "name": "ipython",
    "version": 3
   },
   "file_extension": ".py",
   "mimetype": "text/x-python",
   "name": "python",
   "nbconvert_exporter": "python",
   "pygments_lexer": "ipython3",
   "version": "3.9.18"
  }
 },
 "nbformat": 4,
 "nbformat_minor": 4
}
