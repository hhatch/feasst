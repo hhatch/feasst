{
 "cells": [
  {
   "cell_type": "markdown",
   "metadata": {},
   "source": [
    "# Second virial coefficient calculation of SPC/E using Mayer-Sampling\n",
    "\n",
    "\n",
    "Here, we reproduce the virial coefficient of SPCE\n",
    "\n",
    "Table 2 of https://www.doi.org/10.1021/jp0710685\n",
    "\n",
    "Figure 1 of https://doi.org/10.1063/1.5016165"
   ]
  },
  {
   "cell_type": "code",
   "execution_count": 1,
   "metadata": {},
   "outputs": [],
   "source": [
    "import unittest\n",
    "import feasst as fst\n",
    "\n",
    "class TestMayerSamplingSPCE(unittest.TestCase):\n",
    "    def test(self):\n",
    "        mc = fst.MonteCarlo()\n",
    "        config = fst.MakeConfiguration(fst.args({\"cubic_box_length\": str(fst.NEAR_INFINITY)}))\n",
    "        config.add_particle_type(fst.install_dir() + \"/forcefield/data.spce\")\n",
    "        config.add_particle_type(fst.install_dir() + \"/forcefield/data.spce\", \"2\")\n",
    "        config.add_particle_of_type(0)\n",
    "        config.add_particle_of_type(1)\n",
    "        for site in range(config.num_site_types()):\n",
    "            config.set_model_param(\"cutoff\", site, 1e4)\n",
    "        mc.add(config)\n",
    "        two_body = fst.MakeModelTwoBodyFactory()\n",
    "        two_body.add(fst.MakeLennardJones())\n",
    "        two_body.add(fst.MakeCoulomb())\n",
    "        mc.add(fst.MakePotential(two_body))\n",
    "        mc.add_to_reference(fst.MakePotential(fst.MakeHardSphere()))\n",
    "        mc.set(fst.MakeThermoParams(fst.args({\"beta\": str(1./fst.kelvin2kJpermol(773))})))\n",
    "        mayer = fst.MakeMayerSampling()\n",
    "        mc.set(mayer)\n",
    "        mc.add(fst.MakeTrialTranslate(fst.args({\"new_only\": \"true\", \"reference_index\": \"0\",\n",
    "            \"tunable_param\": \"1\", \"particle_type\": \"1\"})))\n",
    "        mc.add(fst.MakeTrialRotate(fst.args({\"new_only\": \"true\", \"reference_index\": \"0\",\n",
    "            \"tunable_param\": \"40\"})))\n",
    "        steps_per = \"1e5\"\n",
    "        mc.add(fst.MakeLogAndMovie(fst.args({\"steps_per\": steps_per, \"file_name\": \"spce_b2\"})))\n",
    "        mc.add(fst.MakeTune(fst.args({\"steps_per\": steps_per})))\n",
    "        mc.attempt(int(1e6))\n",
    "        mc.perform(fst.MakeRemoveModify(fst.args({\"name\": \"Tune\"})))\n",
    "        mc.attempt(int(1e7))\n",
    "        mayer = fst.MakeMayerSampling()\n",
    "        mc.set(mayer)\n",
    "        mc.attempt(int(1e8))\n",
    "        b2hs = 2./3.*fst.PI*mc.configuration().model_params().sigma().value(0)**3  # A^3\n",
    "        b2hs *= 1e-30*1e3*mc.configuration().physical_constants().avogadro_constant() # L/mol\n",
    "        print(b2hs*mayer.second_virial_ratio())\n",
    "        self.assertAlmostEqual(-0.08596, b2hs*mayer.second_virial_ratio(), delta=0.006)"
   ]
  },
  {
   "cell_type": "markdown",
   "metadata": {},
   "source": [
    "If the test passes, the energy is within the tolerance of the SRSW value and the two ensemble average methods agreed."
   ]
  },
  {
   "cell_type": "code",
   "execution_count": 2,
   "metadata": {},
   "outputs": [
    {
     "name": "stderr",
     "output_type": "stream",
     "text": [
      "test (__main__.TestMayerSamplingSPCE) ... "
     ]
    },
    {
     "name": "stdout",
     "output_type": "stream",
     "text": [
      "CPU times: user 3 µs, sys: 0 ns, total: 3 µs\n",
      "Wall time: 5.96 µs\n",
      "-0.08526363929289871\n"
     ]
    },
    {
     "name": "stderr",
     "output_type": "stream",
     "text": [
      "ok\n",
      "\n",
      "----------------------------------------------------------------------\n",
      "Ran 1 test in 528.655s\n",
      "\n",
      "OK\n"
     ]
    },
    {
     "data": {
      "text/plain": [
       "<unittest.main.TestProgram at 0x7f09c04e9b50>"
      ]
     },
     "execution_count": 2,
     "metadata": {},
     "output_type": "execute_result"
    }
   ],
   "source": [
    "%time  # Note: any line starting with % is only to be used with ipynb\n",
    "unittest.main(argv=[''], verbosity=2, exit=False)"
   ]
  },
  {
   "cell_type": "markdown",
   "metadata": {},
   "source": [
    "Did this tutorial work as expected? Did you find any inconsistencies or have any comments? Please [contact](../../../CONTACT.rst) us. Any feedback is appreciated!"
   ]
  }
 ],
 "metadata": {
  "kernelspec": {
   "display_name": "Python 3",
   "language": "python",
   "name": "python3"
  },
  "language_info": {
   "codemirror_mode": {
    "name": "ipython",
    "version": 3
   },
   "file_extension": ".py",
   "mimetype": "text/x-python",
   "name": "python",
   "nbconvert_exporter": "python",
   "pygments_lexer": "ipython3",
   "version": "3.8.10"
  }
 },
 "nbformat": 4,
 "nbformat_minor": 2
}
